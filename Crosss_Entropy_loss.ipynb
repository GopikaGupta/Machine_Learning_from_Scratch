{
 "cells": [
  {
   "cell_type": "code",
   "execution_count": 1,
   "metadata": {},
   "outputs": [],
   "source": [
    "import numpy as np\n",
    "import matplotlib.pyplot as plt\n",
    "\n",
    "### define the data points\n",
    "x=np.array([1,2,-1,-2])\n",
    "x=np.array([1,1,0,0])\n",
    "\n",
    "\n",
    "### define the sigmoid function\n",
    "def sigmoid(z):\n",
    "    return 1/(1+np.exp(-z))\n",
    "\n",
    "#cross entropy loss function\n",
    "def cross_entropy_loss(x,y,theta,theta0):\n",
    "    z=theta*x+theta0\n",
    "    p =sigmoid(z)\n",
    "    return -np.sum(y*np.log(p+1e-15)+(1-y)*np.log(1-p+1e-15))\n",
    "\n",
    "\n",
    "### values of theta and theta0 to use\n",
    "theta_values=[1,-1,2,-2]\n",
    "theta0_values=[0,1,-1,2]\n",
    "\n",
    "\n",
    "## Plot setup\n",
    "fig,axs=plt.subplots(2,2,figsize=(14,10))\n",
    "fig.suptitle('Sigmoid Function and Cross Entropy Loss for different parameters')\n",
    "\n",
    "\n",
    "for ax, theta, theta0 in zip (axes.flatten(),theta_values,theta0_values):\n",
    "    x_range=np.linspace(-3,3,100)\n",
    "    z=theta*x_range+theta0\n",
    "    p=sigmoid(z)\n",
    "\n",
    "\n",
    "    ax.plot(x_range,p,label=f'Sigmoid: theta={theta}, theta0={theta0}')\n",
    "\n",
    "\n",
    "    ax.scatter(x,np.zeros_like(x),c=['blue' if label==1 else 'red' for label in y])\n",
    "    ax.vline(x,0, sigmoid(theta*x+theta0),color='green',linestyle='dotted')\n",
    "\n",
    "\n",
    "    loss=cross_entropy_loss(x,y,theta,theta0)\n",
    "    ax.title.set_text(f'Theta={theta}, Theta0={theta0},Loss={loss:.2f}')\n",
    "\n",
    "    ax.set_\n"
   ]
  }
 ],
 "metadata": {
  "kernelspec": {
   "display_name": "Python 3",
   "language": "python",
   "name": "python3"
  },
  "language_info": {
   "codemirror_mode": {
    "name": "ipython",
    "version": 3
   },
   "file_extension": ".py",
   "mimetype": "text/x-python",
   "name": "python",
   "nbconvert_exporter": "python",
   "pygments_lexer": "ipython3",
   "version": "3.10.12"
  }
 },
 "nbformat": 4,
 "nbformat_minor": 2
}

{
 "cells": [
  {
   "cell_type": "code",
   "execution_count": 5,
   "metadata": {},
   "outputs": [
    {
     "name": "stdout",
     "output_type": "stream",
     "text": [
      "Employee data : \n",
      "   Employee id Gender Remarks\n",
      "0           10      M    Good\n",
      "1           20      F    Nice\n",
      "2           15      F    Good\n",
      "3           25      M   Great\n",
      "4           30      F    Nice\n"
     ]
    }
   ],
   "source": [
    "import pandas as pd\n",
    "from sklearn.preprocessing import OneHotEncoder\n",
    "\n",
    "\n",
    "#building a dummy employee dataset\n",
    "data={'Employee id': [10,20,15,25,30],\n",
    "      'Gender': ['M','F','F','M','F'],\n",
    "      'Remarks':['Good','Nice','Good','Great','Nice']}\n",
    "\n",
    "# Converting to pandas dataframe\n",
    "df=pd.DataFrame(data)\n",
    "print(f'Employee data : \\n{df}')"
   ]
  },
  {
   "cell_type": "code",
   "execution_count": 13,
   "metadata": {},
   "outputs": [
    {
     "name": "stdout",
     "output_type": "stream",
     "text": [
      "Encoded Employee data: \n",
      "   Employee id  Gender_F  Gender_M  Remarks_Good  Remarks_Great  Remarks_Nice\n",
      "0           10       0.0       1.0           1.0            0.0           0.0\n",
      "1           20       1.0       0.0           0.0            0.0           1.0\n",
      "2           15       1.0       0.0           1.0            0.0           0.0\n",
      "3           25       0.0       1.0           0.0            1.0           0.0\n",
      "4           30       1.0       0.0           0.0            0.0           1.0\n"
     ]
    }
   ],
   "source": [
    "### extract Categorical columns from the dataframe\n",
    "categorical_columns=df.select_dtypes(include=['object']).columns.tolist()\n",
    "\n",
    "\n",
    "### Initialize the Encoding\n",
    "encoder=OneHotEncoder(sparse_output=False)\n",
    "\n",
    "\n",
    "# Apply One hot encoding to the categorical columns\n",
    "one_hot_encoded=encoder.fit_transform(df[categorical_columns])\n",
    "\n",
    "# create a DataFrame with onehot encoded columns\n",
    "one_hot_df=pd.DataFrame(one_hot_encoded,columns=encoder.get_feature_names_out(categorical_columns))\n",
    "\n",
    "### Concatenate the one hot encoded dataframe with the original dataframe\n",
    "df_encoded=pd.concat([df,one_hot_df],axis=1)\n",
    "\n",
    "# drop the original categorical columns\n",
    "df_encoded=df_encoded.drop(categorical_columns,axis=1)\n",
    "\n",
    "# display the resulting dataframe\n",
    "print(f'Encoded Employee data: \\n{df_encoded}')"
   ]
  }
 ],
 "metadata": {
  "kernelspec": {
   "display_name": "Python 3",
   "language": "python",
   "name": "python3"
  },
  "language_info": {
   "codemirror_mode": {
    "name": "ipython",
    "version": 3
   },
   "file_extension": ".py",
   "mimetype": "text/x-python",
   "name": "python",
   "nbconvert_exporter": "python",
   "pygments_lexer": "ipython3",
   "version": "3.10.12"
  }
 },
 "nbformat": 4,
 "nbformat_minor": 2
}
